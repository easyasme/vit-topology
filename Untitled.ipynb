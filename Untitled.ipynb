{
 "cells": [
  {
   "cell_type": "code",
   "execution_count": null,
   "id": "c9573351-e2b7-4219-8ca9-979fb4cff1f5",
   "metadata": {},
   "outputs": [
    {
     "name": "stdout",
     "output_type": "stream",
     "text": [
      "salloc: Pending job allocation 122305\n",
      "salloc: job 122305 queued and waiting for resources\n",
      "salloc: job 122305 has been allocated resources\n",
      "salloc: Granted job allocation 122305\n",
      "salloc: Waiting for resource configuration\n",
      "salloc: Nodes cs-1-2 are ready for job\n",
      "\u001b[?2004h(base) bash-5.1$ "
     ]
    }
   ],
   "source": [
    "!salloc --time=01:00:00 --mem=64G --ntasks=12 -N 1 --gpus=2 --qos=cs"
   ]
  },
  {
   "cell_type": "code",
   "execution_count": null,
   "id": "d782ff74-1adf-43c0-b0f5-50493b1d6874",
   "metadata": {},
   "outputs": [],
   "source": [
    "!nvidia-smi"
   ]
  },
  {
   "cell_type": "code",
   "execution_count": null,
   "id": "d5a6d028-0533-4d98-9288-999efab09ee9",
   "metadata": {},
   "outputs": [],
   "source": []
  }
 ],
 "metadata": {
  "kernelspec": {
   "display_name": "Python 3 (ipykernel)",
   "language": "python",
   "name": "python3"
  },
  "language_info": {
   "codemirror_mode": {
    "name": "ipython",
    "version": 3
   },
   "file_extension": ".py",
   "mimetype": "text/x-python",
   "name": "python",
   "nbconvert_exporter": "python",
   "pygments_lexer": "ipython3",
   "version": "3.8.18"
  }
 },
 "nbformat": 4,
 "nbformat_minor": 5
}
